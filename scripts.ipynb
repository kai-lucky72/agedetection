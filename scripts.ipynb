{
 "cells": [
  {
   "cell_type": "code",
   "id": "initial_id",
   "metadata": {
    "collapsed": true,
    "ExecuteTime": {
     "end_time": "2025-05-17T12:00:09.476629Z",
     "start_time": "2025-05-17T12:00:09.411368Z"
    }
   },
   "source": [
    "import cv2\n",
    "import numpy as np\n",
    "# from google.colab.patches import cv2_imshow\n",
    "from mediapipe.tasks.python.components.containers import detections"
   ],
   "outputs": [],
   "execution_count": 33
  },
  {
   "metadata": {
    "ExecuteTime": {
     "end_time": "2025-05-17T12:00:09.529195Z",
     "start_time": "2025-05-17T12:00:09.519602Z"
    }
   },
   "cell_type": "code",
   "source": [
    "'''\n",
    "face_proto and face_model: Files for the pre-trained face detection model.\n",
    "age_proto and age_model: Files for the pre-trained age prediction model.\n",
    "cv2.dnn.readNetFromTensorflow: Reads the face detection model into OpenCV.\n",
    "cv2.dnn.readNetFromCaffe: Reads the age prediction model into OpenCV.\n",
    "'''\n",
    "face_proto = \"opencv_face_detector.pbtxt\"\n",
    "face_model = \"opencv_face_detector_uint8.pb\"\n",
    "age_proto = \"age_deploy.prototxt\"\n",
    "age_model = \"age_net.caffemodel\""
   ],
   "id": "90d4e8972b9b7ebe",
   "outputs": [],
   "execution_count": 34
  },
  {
   "metadata": {
    "ExecuteTime": {
     "end_time": "2025-05-17T12:00:09.596975Z",
     "start_time": "2025-05-17T12:00:09.584142Z"
    }
   },
   "cell_type": "code",
   "source": [
    "MODEL_MEAN_VALUES = (78.4263377603, 87.7689143744, 114.895847746)\n",
    "age_list = ['(0-2)', '(4-6)', '(8-12)', '(15-20)',\n",
    "            '(25-32)', '(38-43)', '(48-53)', '(60-100)']"
   ],
   "id": "3622571ef8a27707",
   "outputs": [],
   "execution_count": 35
  },
  {
   "metadata": {
    "ExecuteTime": {
     "end_time": "2025-05-17T12:00:09.982405Z",
     "start_time": "2025-05-17T12:00:09.650525Z"
    }
   },
   "cell_type": "code",
   "source": [
    "\n",
    "# Load models\n",
    "face_net = cv2.dnn.readNetFromTensorflow(face_model, face_proto)\n",
    "age_net = cv2.dnn.readNetFromCaffe(age_proto, age_model)\n"
   ],
   "id": "e1f62115df6836d8",
   "outputs": [],
   "execution_count": 36
  },
  {
   "metadata": {
    "ExecuteTime": {
     "end_time": "2025-05-17T12:00:10.007909Z",
     "start_time": "2025-05-17T12:00:09.993822Z"
    }
   },
   "cell_type": "code",
   "source": [
    "\"\"\"\n",
    "cv2.dnn.blobFromImage: Converts the image into a blob format required by the DNN model.\n",
    "net.setInput(blob): Sets the input to the face detection model.\n",
    "net.forward(): Runs the forward pass to detect faces.\n",
    "confidence threshold: Filters out faces that have a low detection confidence.\n",
    "\"\"\"\n",
    "def detect_faces(net, frame, conf_threshold=0.7):\n",
    "    frame_height = frame.shape[0]\n",
    "    frame_width = frame.shape[1]\n",
    "    blob = cv2.dnn.blobFromImage(frame, 1.0, (300, 300), [104, 117, 123], False, False)\n",
    "    net.setInput(blob)\n",
    "    detections_output = net.forward()\n",
    "    face_boxes = []\n",
    "\n",
    "    for i in range(detections_output.shape[2]):\n",
    "        confidence = detections_output[0, 0, i, 2]\n",
    "        if confidence > conf_threshold:\n",
    "            x1 = int(detections_output[0, 0, i, 3] * frame_width)\n",
    "            y1 = int(detections_output[0, 0, i, 4] * frame_height)\n",
    "            x2 = int(detections_output[0, 0, i, 5] * frame_width)\n",
    "            y2 = int(detections_output[0, 0, i, 6] * frame_height)\n",
    "            face_boxes.append([x1, y1, x2, y2])\n",
    "            cv2.rectangle(frame, (x1, y1), (x2, y2), (0, 255, 0), int(round(frame_height/150)), 8)\n",
    "\n",
    "    return face_boxes, frame"
   ],
   "id": "25d4d625bb8c3352",
   "outputs": [],
   "execution_count": 37
  },
  {
   "metadata": {
    "ExecuteTime": {
     "end_time": "2025-05-17T12:00:10.083066Z",
     "start_time": "2025-05-17T12:00:10.077211Z"
    }
   },
   "cell_type": "code",
   "source": [
    "\"\"\"\n",
    "cv2.dnn.blobFromImage: Prepares the face image by resizing and normalizing it for input into the age prediction model.\n",
    "net.forward(): Runs the forward pass to predict the age.\n",
    "age_preds[0].argmax(): Finds the index of the highest probability, which corresponds to the predicted age range.\n",
    "\"\"\"\n",
    "\n",
    "\n",
    "def predict_age(face, net):\n",
    "    blob = cv2.dnn.blobFromImage(face, 1.0, (227, 227), MODEL_MEAN_VALUES, swapRB=False)\n",
    "    net.setInput(blob)\n",
    "    age_preds = net.forward()\n",
    "    age = age_list[age_preds[0].argmax()]\n",
    "    return age\n"
   ],
   "id": "a4cc768a72d8ee69",
   "outputs": [],
   "execution_count": 38
  },
  {
   "metadata": {
    "ExecuteTime": {
     "end_time": "2025-05-17T12:00:13.593836Z",
     "start_time": "2025-05-17T12:00:10.140428Z"
    }
   },
   "cell_type": "code",
   "source": [
    "# Processing image\n",
    "def process_image(image_path):\n",
    "    frame = cv2.imread(image_path)\n",
    "\n",
    "    if frame is None:\n",
    "        print(f\"Error: Image not found at {image_path}\")\n",
    "        return\n",
    "\n",
    "    face_boxes, frame = detect_faces(face_net, frame)\n",
    "\n",
    "    for (x1, y1, x2, y2) in face_boxes:\n",
    "        face = frame[max(0, y1-20):min(y2+20, frame.shape[0]-1),\n",
    "                     max(0, x1-20):min(x2+20, frame.shape[1]-1)]\n",
    "        age = predict_age(face, age_net)\n",
    "        cv2.putText(frame, f\"Age: {age}\", (x1, y1-10),\n",
    "                   cv2.FONT_HERSHEY_SIMPLEX, 0.8, (0, 255, 255), 2, cv2.LINE_AA)\n",
    "\n",
    "    cv2.imshow(\"Age Detection\", frame)\n",
    "    cv2.waitKey(0)\n",
    "    cv2.destroyAllWindows()\n",
    "\n",
    "# Run it\n",
    "image_path = \"kid1.jpg\"\n",
    "process_image(image_path)"
   ],
   "id": "9b249e7462986644",
   "outputs": [],
   "execution_count": 39
  }
 ],
 "metadata": {
  "kernelspec": {
   "display_name": "Python 3",
   "language": "python",
   "name": "python3"
  },
  "language_info": {
   "codemirror_mode": {
    "name": "ipython",
    "version": 2
   },
   "file_extension": ".py",
   "mimetype": "text/x-python",
   "name": "python",
   "nbconvert_exporter": "python",
   "pygments_lexer": "ipython2",
   "version": "2.7.6"
  }
 },
 "nbformat": 4,
 "nbformat_minor": 5
}
