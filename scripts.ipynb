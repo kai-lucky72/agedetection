{
 "cells": [
  {
   "cell_type": "code",
   "id": "initial_id",
   "metadata": {
    "collapsed": true,
    "ExecuteTime": {
     "end_time": "2025-05-20T15:48:53.754253Z",
     "start_time": "2025-05-20T15:48:52.227945Z"
    }
   },
   "source": [
    "import cv2\n",
    "import numpy as np\n",
    "# from google.colab.patches import cv2_imshow\n",
    "from mediapipe.tasks.python.components.containers import detections"
   ],
   "outputs": [],
   "execution_count": 1
  },
  {
   "metadata": {
    "ExecuteTime": {
     "end_time": "2025-05-20T15:48:53.794875Z",
     "start_time": "2025-05-20T15:48:53.788537Z"
    }
   },
   "cell_type": "code",
   "source": [
    "'''\n",
    "face_proto and face_model: Files for the pre-trained face detection model.\n",
    "age_proto and age_model: Files for the pre-trained age prediction model.\n",
    "cv2.dnn.readNetFromTensorflow: Reads the face detection model into OpenCV.\n",
    "cv2.dnn.readNetFromCaffe: Reads the age prediction model into OpenCV.\n",
    "'''\n",
    "face_proto = \"opencv_face_detector.pbtxt\"\n",
    "face_model = \"opencv_face_detector_uint8.pb\"\n",
    "age_proto = \"age_deploy.prototxt\"\n",
    "age_model = \"age_net.caffemodel\""
   ],
   "id": "90d4e8972b9b7ebe",
   "outputs": [],
   "execution_count": 2
  },
  {
   "metadata": {
    "ExecuteTime": {
     "end_time": "2025-05-20T15:48:53.852866Z",
     "start_time": "2025-05-20T15:48:53.848594Z"
    }
   },
   "cell_type": "code",
   "source": [
    "MODEL_MEAN_VALUES = (78.4263377603, 87.7689143744, 114.895847746)\n",
    "age_list = ['(0-2)', '(4-6)', '(8-12)', '(15-20)',\n",
    "            '(25-32)', '(38-43)', '(48-53)', '(60-100)']"
   ],
   "id": "3622571ef8a27707",
   "outputs": [],
   "execution_count": 3
  },
  {
   "metadata": {
    "ExecuteTime": {
     "end_time": "2025-05-20T15:48:54.154019Z",
     "start_time": "2025-05-20T15:48:53.906897Z"
    }
   },
   "cell_type": "code",
   "source": [
    "\n",
    "# Load models\n",
    "face_net = cv2.dnn.readNetFromTensorflow(face_model, face_proto)\n",
    "age_net = cv2.dnn.readNetFromCaffe(age_proto, age_model)\n"
   ],
   "id": "e1f62115df6836d8",
   "outputs": [],
   "execution_count": 4
  },
  {
   "metadata": {
    "ExecuteTime": {
     "end_time": "2025-05-20T15:48:54.174903Z",
     "start_time": "2025-05-20T15:48:54.166212Z"
    }
   },
   "cell_type": "code",
   "source": [
    "\"\"\"\n",
    "cv2.dnn.blobFromImage: Converts the image into a blob format required by the DNN model.\n",
    "net.setInput(blob): Sets the input to the face detection model.\n",
    "net.forward(): Runs the forward pass to detect faces.\n",
    "confidence threshold: Filters out faces that have a low detection confidence.\n",
    "\"\"\"\n",
    "def detect_faces(net, frame, conf_threshold=0.7):\n",
    "    frame_height = frame.shape[0]\n",
    "    frame_width = frame.shape[1]\n",
    "    blob = cv2.dnn.blobFromImage(frame, 1.0, (300, 300), [104, 117, 123], False, False)\n",
    "    net.setInput(blob)\n",
    "    detections_output = net.forward()\n",
    "    face_boxes = []\n",
    "\n",
    "    for i in range(detections_output.shape[2]):\n",
    "        confidence = detections_output[0, 0, i, 2]\n",
    "        if confidence > conf_threshold:\n",
    "            x1 = int(detections_output[0, 0, i, 3] * frame_width)\n",
    "            y1 = int(detections_output[0, 0, i, 4] * frame_height)\n",
    "            x2 = int(detections_output[0, 0, i, 5] * frame_width)\n",
    "            y2 = int(detections_output[0, 0, i, 6] * frame_height)\n",
    "            face_boxes.append([x1, y1, x2, y2])\n",
    "            cv2.rectangle(frame, (x1, y1), (x2, y2), (0, 255, 0), int(round(frame_height/150)), 8)\n",
    "\n",
    "    return face_boxes, frame"
   ],
   "id": "25d4d625bb8c3352",
   "outputs": [],
   "execution_count": 5
  },
  {
   "metadata": {
    "ExecuteTime": {
     "end_time": "2025-05-20T15:48:54.228385Z",
     "start_time": "2025-05-20T15:48:54.222162Z"
    }
   },
   "cell_type": "code",
   "source": [
    "\"\"\"\n",
    "cv2.dnn.blobFromImage: Prepares the face image by resizing and normalizing it for input into the age prediction model.\n",
    "net.forward(): Runs the forward pass to predict the age.\n",
    "age_preds[0].argmax(): Finds the index of the highest probability, which corresponds to the predicted age range.\n",
    "\"\"\"\n",
    "\n",
    "\n",
    "def predict_age(face, net):\n",
    "    blob = cv2.dnn.blobFromImage(face, 1.0, (227, 227), MODEL_MEAN_VALUES, swapRB=False)\n",
    "    net.setInput(blob)\n",
    "    age_preds = net.forward()\n",
    "    age = age_list[age_preds[0].argmax()]\n",
    "    return age\n"
   ],
   "id": "a4cc768a72d8ee69",
   "outputs": [],
   "execution_count": 6
  },
  {
   "metadata": {
    "ExecuteTime": {
     "end_time": "2025-05-20T15:48:54.633826Z",
     "start_time": "2025-05-20T15:48:54.288097Z"
    }
   },
   "cell_type": "code",
   "source": [
    "# Processing image\n",
    "def process_image(image_path):\n",
    "    frame = cv2.imread(image_path)\n",
    "\n",
    "    if frame is None:\n",
    "        print(f\"Error: Image not found at {image_path}\")\n",
    "        return\n",
    "\n",
    "    face_boxes, frame = detect_faces(face_net, frame)\n",
    "\n",
    "    for (x1, y1, x2, y2) in face_boxes:\n",
    "        face = frame[max(0, y1-20):min(y2+20, frame.shape[0]-1),\n",
    "                     max(0, x1-20):min(x2+20, frame.shape[1]-1)]\n",
    "        age = predict_age(face, age_net)\n",
    "        cv2.putText(frame, f\"Age: {age}\", (x1, y1-10),\n",
    "                   cv2.FONT_HERSHEY_SIMPLEX, 0.8, (0, 255, 255), 2, cv2.LINE_AA)\n",
    "\n",
    "    cv2.imshow(\"Age Detection\", frame)\n",
    "    cv2.waitKey(0)\n",
    "    cv2.destroyAllWindows()\n",
    "\n",
    "# Run it\n",
    "image_path = \"Screenshot 2025-04-21 152351.png\"\n",
    "process_image(image_path)"
   ],
   "id": "9b249e7462986644",
   "outputs": [
    {
     "ename": "error",
     "evalue": "OpenCV(4.11.0) /io/opencv/modules/imgproc/src/resize.cpp:4208: error: (-215:Assertion failed) !ssize.empty() in function 'resize'\n",
     "output_type": "error",
     "traceback": [
      "\u001B[31m---------------------------------------------------------------------------\u001B[39m",
      "\u001B[31merror\u001B[39m                                     Traceback (most recent call last)",
      "\u001B[36mCell\u001B[39m\u001B[36m \u001B[39m\u001B[32mIn[7]\u001B[39m\u001B[32m, line 24\u001B[39m\n\u001B[32m     22\u001B[39m \u001B[38;5;66;03m# Run it\u001B[39;00m\n\u001B[32m     23\u001B[39m image_path = \u001B[33m\"\u001B[39m\u001B[33mScreenshot 2025-04-21 152351.png\u001B[39m\u001B[33m\"\u001B[39m\n\u001B[32m---> \u001B[39m\u001B[32m24\u001B[39m \u001B[43mprocess_image\u001B[49m\u001B[43m(\u001B[49m\u001B[43mimage_path\u001B[49m\u001B[43m)\u001B[49m\n",
      "\u001B[36mCell\u001B[39m\u001B[36m \u001B[39m\u001B[32mIn[7]\u001B[39m\u001B[32m, line 14\u001B[39m, in \u001B[36mprocess_image\u001B[39m\u001B[34m(image_path)\u001B[39m\n\u001B[32m     11\u001B[39m \u001B[38;5;28;01mfor\u001B[39;00m (x1, y1, x2, y2) \u001B[38;5;129;01min\u001B[39;00m face_boxes:\n\u001B[32m     12\u001B[39m     face = frame[\u001B[38;5;28mmax\u001B[39m(\u001B[32m0\u001B[39m, y1-\u001B[32m20\u001B[39m):\u001B[38;5;28mmin\u001B[39m(y2+\u001B[32m20\u001B[39m, frame.shape[\u001B[32m0\u001B[39m]-\u001B[32m1\u001B[39m),\n\u001B[32m     13\u001B[39m                  \u001B[38;5;28mmax\u001B[39m(\u001B[32m0\u001B[39m, x1-\u001B[32m20\u001B[39m):\u001B[38;5;28mmin\u001B[39m(x2+\u001B[32m20\u001B[39m, frame.shape[\u001B[32m1\u001B[39m]-\u001B[32m1\u001B[39m)]\n\u001B[32m---> \u001B[39m\u001B[32m14\u001B[39m     age = \u001B[43mpredict_age\u001B[49m\u001B[43m(\u001B[49m\u001B[43mface\u001B[49m\u001B[43m,\u001B[49m\u001B[43m \u001B[49m\u001B[43mage_net\u001B[49m\u001B[43m)\u001B[49m\n\u001B[32m     15\u001B[39m     cv2.putText(frame, \u001B[33mf\u001B[39m\u001B[33m\"\u001B[39m\u001B[33mAge: \u001B[39m\u001B[38;5;132;01m{\u001B[39;00mage\u001B[38;5;132;01m}\u001B[39;00m\u001B[33m\"\u001B[39m, (x1, y1-\u001B[32m10\u001B[39m),\n\u001B[32m     16\u001B[39m                cv2.FONT_HERSHEY_SIMPLEX, \u001B[32m0.8\u001B[39m, (\u001B[32m0\u001B[39m, \u001B[32m255\u001B[39m, \u001B[32m255\u001B[39m), \u001B[32m2\u001B[39m, cv2.LINE_AA)\n\u001B[32m     18\u001B[39m cv2.imshow(\u001B[33m\"\u001B[39m\u001B[33mAge Detection\u001B[39m\u001B[33m\"\u001B[39m, frame)\n",
      "\u001B[36mCell\u001B[39m\u001B[36m \u001B[39m\u001B[32mIn[6]\u001B[39m\u001B[32m, line 9\u001B[39m, in \u001B[36mpredict_age\u001B[39m\u001B[34m(face, net)\u001B[39m\n\u001B[32m      8\u001B[39m \u001B[38;5;28;01mdef\u001B[39;00m\u001B[38;5;250m \u001B[39m\u001B[34mpredict_age\u001B[39m(face, net):\n\u001B[32m----> \u001B[39m\u001B[32m9\u001B[39m     blob = \u001B[43mcv2\u001B[49m\u001B[43m.\u001B[49m\u001B[43mdnn\u001B[49m\u001B[43m.\u001B[49m\u001B[43mblobFromImage\u001B[49m\u001B[43m(\u001B[49m\u001B[43mface\u001B[49m\u001B[43m,\u001B[49m\u001B[43m \u001B[49m\u001B[32;43m1.0\u001B[39;49m\u001B[43m,\u001B[49m\u001B[43m \u001B[49m\u001B[43m(\u001B[49m\u001B[32;43m227\u001B[39;49m\u001B[43m,\u001B[49m\u001B[43m \u001B[49m\u001B[32;43m227\u001B[39;49m\u001B[43m)\u001B[49m\u001B[43m,\u001B[49m\u001B[43m \u001B[49m\u001B[43mMODEL_MEAN_VALUES\u001B[49m\u001B[43m,\u001B[49m\u001B[43m \u001B[49m\u001B[43mswapRB\u001B[49m\u001B[43m=\u001B[49m\u001B[38;5;28;43;01mFalse\u001B[39;49;00m\u001B[43m)\u001B[49m\n\u001B[32m     10\u001B[39m     net.setInput(blob)\n\u001B[32m     11\u001B[39m     age_preds = net.forward()\n",
      "\u001B[31merror\u001B[39m: OpenCV(4.11.0) /io/opencv/modules/imgproc/src/resize.cpp:4208: error: (-215:Assertion failed) !ssize.empty() in function 'resize'\n"
     ]
    }
   ],
   "execution_count": 7
  },
  {
   "metadata": {},
   "cell_type": "code",
   "outputs": [],
   "execution_count": null,
   "source": "",
   "id": "3a8abeeb8c99b077"
  },
  {
   "metadata": {},
   "cell_type": "code",
   "outputs": [],
   "execution_count": null,
   "source": "",
   "id": "82751ba8293e64b3"
  },
  {
   "metadata": {},
   "cell_type": "code",
   "outputs": [],
   "execution_count": null,
   "source": "",
   "id": "923e3498b0074eff"
  }
 ],
 "metadata": {
  "kernelspec": {
   "display_name": "Python 3",
   "language": "python",
   "name": "python3"
  },
  "language_info": {
   "codemirror_mode": {
    "name": "ipython",
    "version": 2
   },
   "file_extension": ".py",
   "mimetype": "text/x-python",
   "name": "python",
   "nbconvert_exporter": "python",
   "pygments_lexer": "ipython2",
   "version": "2.7.6"
  }
 },
 "nbformat": 4,
 "nbformat_minor": 5
}
